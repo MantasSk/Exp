{
 "cells": [
  {
   "cell_type": "code",
   "execution_count": 34,
   "metadata": {},
   "outputs": [],
   "source": [
    "import math\n",
    "import numpy as np\n",
    "import pandas as pd\n",
    "import datetime\n",
    "import scipy.stats as stats\n",
    "import matplotlib.pyplot as plt"
   ]
  },
  {
   "attachments": {},
   "cell_type": "markdown",
   "metadata": {},
   "source": [
    "In our exploration, we will delve into techniques aimed at reducing the variance in Monte Carlo simulations when valuing financial derivatives. The mathematical notations and practical examples we will use are drawn from Les Clewlow and Chris Strickland's book, \"Implementing Derivatives Models.\"\n",
    "\n",
    "While Monte Carlo simulation is an excellent method for approximating the values of options with complex payoffs or high dimensionality, obtaining a sufficiently accurate estimate often requires performing a large number of simulations, denoted as $M$ To address this computational demand and enhance efficiency, we can turn to Variance Reduction methods.\n",
    "\n",
    "Variance Reduction methods operate on the same underlying principle as hedging an option position. In other words, they leverage strategies that reduce the variability of a hedged option portfolio. This reduction in variance results in more precise estimates and can significantly improve the efficiency of Monte Carlo simulations, making them a valuable tool for derivative valuation."
   ]
  },
  {
   "attachments": {},
   "cell_type": "markdown",
   "metadata": {},
   "source": [
    "**Antithetic Variates**\n",
    "\n",
    "Imagine you have two options, one on asset $S_1$ and another on asset $S_2$. These assets are in perfect negative correlation with each other and currently share the same price. The dynamics of $S_1$ and $S_2$ follow the Stochastic Differential Equations:\n",
    "\n",
    "For $S_1$:\n",
    "$$dS_{1,t} = rS_{1,t} dt + \\sigma dS_{1,t} dz_t$$\n",
    "\n",
    "For $S_2$:\n",
    "$$dS_{2,t} = rS_{2,t} dt - \\sigma dS_{2,t} dz_t$$\n",
    "\n",
    "Because both assets have identical prices and volatility, the value of these two options is also the same. However, the real insight lies in the variance of a portfolio's payoff, containing both of these contracts, which is considerably lower than the variance of each individual contract. This approach effectively reduces the sharp spikes in the probability distribution of a single contract's payoff.\n",
    "\n",
    "The core idea behind this technique is that when one option yields a positive payout, the other does not, and vice versa. This negative correlation between the two assets contributes to a smoother overall distribution of payoffs and risk reduction. As a result, it serves as a powerful method to enhance the efficiency of Monte Carlo simulations and derivative valuation.\n"
   ]
  },
  {
   "attachments": {},
   "cell_type": "markdown",
   "metadata": {},
   "source": [
    "**Implementation of Antithetic Variates**\n",
    "\n",
    "In the context of valuing a European Call Option, one way to reduce variance is to create a hypothetical asset that is perfectly negatively correlated with the original asset. This approach is known as using antithetic variates. The implementation is straightforward, and it can significantly enhance the efficiency of Monte Carlo simulations. \n",
    "\n",
    "Consider the example of a European Call Option, where the simulated pay-offs follow the dynamics of asset St over time:\n",
    "\n",
    "$$S_{t+\\Delta t} = S_t \\exp(\\nu \\Delta t + \\sigma (\\Delta Z))$$\n",
    "\n",
    "Here, $(\\Delta Z)$ represents a normally distributed random variable with mean 0 and variance $(\\Delta t)$, equivalent to a standard normal distribution with mean 0 and standard deviation $(\\sqrt{\\Delta t})$, often denoted as $\\epsilon_i$.\n",
    "\n",
    "For contract simulation, you can define the following pay-off functions:\n",
    "\n",
    "1. European Call Option Payoff for Simulation \"i\":\n",
    "   $$C_{T,i} = \\max(0, S \\exp(\\nu \\Delta T + \\sigma \\sqrt{T} \\epsilon_i) - K)$$\n",
    "\n",
    "2. European Call Option Payoff for the Antithetic Variate of Simulation \"i\":\n",
    "   $$\\bar{C}_{T,i} = \\max(0, S \\exp(\\nu \\Delta T + \\sigma \\sqrt{T} (-\\epsilon_i)) - K)$$\n",
    "\n",
    "In these equations:\n",
    "- $C_{T,i}$ represents the pay-off for the European Call Option in simulation \"i.\"\n",
    "- $\\bar{C}_{T,i}$ represents the pay-off for the antithetic variate of the European Call Option in the same simulation.\n",
    "- $S$ is the asset price.\n",
    "- $\\nu$ is a parameter defined as $\\nu = r - \\frac{1}{2}\\sigma^2$.\n",
    "- $\\Delta T$ is the time increment.\n",
    "- $\\sigma$ is the volatility of the asset.\n",
    "- $\\epsilon_i$ and $-\\epsilon_i$ are random variables following a standard normal distribution.\n",
    "\n",
    "By considering both the original simulation and its antithetic variate, we effectively reduce the variance in our simulation results, making the estimation of option values more accurate and efficient.\n"
   ]
  },
  {
   "cell_type": "code",
   "execution_count": 35,
   "metadata": {},
   "outputs": [
    {
     "name": "stdout",
     "output_type": "stream",
     "text": [
      "0.1643835616438356\n"
     ]
    }
   ],
   "source": [
    "# initial derivative parameters \n",
    "S = 101.15          #stock price\n",
    "K = 98.01           #strike price\n",
    "vol = 0.0991        #volatility (%)\n",
    "r = 0.015            #risk-free rate (%)\n",
    "N = 10              #number of time steps\n",
    "M = 1000            #number of simulations\n",
    "market_value = 3.86 #market price of option\n",
    "T = ((datetime.date(2022,3,17)-datetime.date(2022,1,17)).days+1)/365    #time in years\n",
    "print(T)"
   ]
  },
  {
   "attachments": {},
   "cell_type": "markdown",
   "metadata": {},
   "source": [
    "**Slow Solution - Steps**"
   ]
  },
  {
   "attachments": {},
   "cell_type": "markdown",
   "metadata": {},
   "source": [
    "We typically decompose the process into gradual, discretized increments; however, in the case of a European Call Option, there's no need to take these steps as the discretization accurately mirrors the Stochastic Differential Equation (SDE)."
   ]
  },
  {
   "cell_type": "code",
   "execution_count": 36,
   "metadata": {},
   "outputs": [
    {
     "name": "stdout",
     "output_type": "stream",
     "text": [
      "Call value is $3.84 with SE +/- 0.03\n"
     ]
    }
   ],
   "source": [
    "# Precompute constants\n",
    "dt = T/N\n",
    "nudt = (r - 0.5*vol**2)*dt\n",
    "volsdt = vol*np.sqrt(dt)\n",
    "lnS = np.log(S)\n",
    "# Standard Error Placeholders\n",
    "sum_CT = 0\n",
    "sum_CT2 = 0\n",
    "# Monte Carlo Method\n",
    "for i in range(M):\n",
    "    lnSt1 = lnS\n",
    "    lnSt2 = lnS\n",
    "    for j in range(N):\n",
    "        # Perfectly Negatively Correlated Assets\n",
    "        epsilon = np.random.normal()\n",
    "        lnSt1 = lnSt1 + nudt + volsdt*epsilon\n",
    "        lnSt2 = lnSt2 + nudt - volsdt*epsilon\n",
    "    \n",
    "    ST1 = np.exp(lnSt1)\n",
    "    ST2 = np.exp(lnSt2)\n",
    "    CT = 0.5 * ( max(0, ST1 - K) + max(0, ST2 - K) )\n",
    "    sum_CT = sum_CT + CT\n",
    "    sum_CT2 = sum_CT2 + CT*CT\n",
    "# Compute Expectation and SE\n",
    "C0 = np.exp(-r*T)*sum_CT/M\n",
    "sigma = np.sqrt( (sum_CT2 - sum_CT*sum_CT/M)*np.exp(-2*r*T) / (M-1) )\n",
    "SE = sigma/np.sqrt(M)\n",
    "print(\"Call value is ${0} with SE +/- {1}\".format(np.round(C0,2),np.round(SE,2)))"
   ]
  },
  {
   "attachments": {},
   "cell_type": "markdown",
   "metadata": {},
   "source": [
    "**Efficient Solution – Vectorized**\n",
    "\n",
    "In this example, only a single step is required!\n",
    "\n",
    "In straightforward processes where there is no need for SDE approximation, such as the case of Geometric Brownian Motion used in European Option Price calculations, we can efficiently simulate the variables at the final time step. This is because Brownian Motion scales with time and exhibits independent increments, simplifying the simulation process."
   ]
  },
  {
   "cell_type": "code",
   "execution_count": 37,
   "metadata": {},
   "outputs": [
    {
     "name": "stdout",
     "output_type": "stream",
     "text": [
      "Call value is $3.81 with SE +/- 0.03\n"
     ]
    }
   ],
   "source": [
    "#precompute constants\n",
    "N = 1\n",
    "dt = T/N\n",
    "nudt = (r - 0.5*vol**2)*dt\n",
    "volsdt = vol*np.sqrt(dt)\n",
    "lnS = np.log(S)\n",
    "# Monte Carlo Method\n",
    "Z = np.random.normal(size=(N, M)) \n",
    "delta_lnSt1 = nudt + volsdt*Z \n",
    "delta_lnSt2 = nudt - volsdt*Z \n",
    "lnSt1 = lnS + np.cumsum(delta_lnSt1, axis=0)\n",
    "lnSt2 = lnS + np.cumsum(delta_lnSt2, axis=0)\n",
    "# Compute Expectation and SE\n",
    "ST1 = np.exp(lnSt1)\n",
    "ST2 = np.exp(lnSt2)\n",
    "CT = 0.5 * ( np.maximum(0, ST1[-1] - K) + np.maximum(0, ST2[-1] - K) )\n",
    "C0 = np.exp(-r*T)*np.sum(CT)/M\n",
    "sigma = np.sqrt( np.sum( (CT - C0)**2) / (M-1) )\n",
    "SE = sigma/np.sqrt(M)\n",
    "print(\"Call value is ${0} with SE +/- {1}\".format(np.round(C0,2),np.round(SE,2)))"
   ]
  },
  {
   "attachments": {},
   "cell_type": "markdown",
   "metadata": {},
   "source": [
    "**Comparing without Antithetic Variate**"
   ]
  },
  {
   "cell_type": "code",
   "execution_count": 38,
   "metadata": {},
   "outputs": [
    {
     "name": "stdout",
     "output_type": "stream",
     "text": [
      "Call value is $3.81 with SE +/- 0.03\n"
     ]
    }
   ],
   "source": [
    "N = 1\n",
    "dt = T/N\n",
    "nudt = (r - 0.5*vol**2)*dt\n",
    "volsdt = vol*np.sqrt(dt)\n",
    "lnS = np.log(S)\n",
    "# Monte Carlo Method\n",
    "Z = np.random.normal(size=(N, M)) \n",
    "delta_lnSt = nudt + volsdt*Z \n",
    "lnSt = lnS + np.cumsum(delta_lnSt, axis=0)\n",
    "lnSt = np.concatenate( (np.full(shape=(1, M), fill_value=lnS), lnSt ) )\n",
    "# Compute Expectation and SE\n",
    "ST = np.exp(lnSt)\n",
    "CT = np.maximum(0, ST - K)\n",
    "C0w = np.exp(-r*T)*np.sum(CT[-1])/M\n",
    "sigma = np.sqrt( np.sum( (CT[-1] - C0)**2) / (M-1) )\n",
    "SEw = sigma/np.sqrt(M)\n",
    "print(\"Call value is ${0} with SE +/- {1}\".format(np.round(C0,2),np.round(SE,2)))"
   ]
  },
  {
   "attachments": {},
   "cell_type": "markdown",
   "metadata": {},
   "source": [
    "**Visualisation of Convergence**"
   ]
  },
  {
   "cell_type": "code",
   "execution_count": 39,
   "metadata": {},
   "outputs": [
    {
     "data": {
      "image/png": "[encoded data removed]",
      "text/plain": [
       "<Figure size 640x480 with 1 Axes>"
      ]
     },
     "metadata": {},
     "output_type": "display_data"
    }
   ],
   "source": [
    "\n",
    "x1 = np.linspace(C0-3*SE, C0-1*SE, 100)\n",
    "x2 = np.linspace(C0-1*SE, C0+1*SE, 100)\n",
    "x3 = np.linspace(C0+1*SE, C0+3*SE, 100)\n",
    "xw = np.linspace(C0w-3*SEw, C0w+3*SEw, 100)\n",
    "s1 = stats.norm.pdf(x1, C0, SE)\n",
    "s2 = stats.norm.pdf(x2, C0, SE)\n",
    "s3 = stats.norm.pdf(x3, C0, SE)\n",
    "sw = stats.norm.pdf(xw, C0w, SEw)\n",
    "plt.fill_between(x1, s1, color='tab:blue',label='> StDev')\n",
    "plt.fill_between(x2, s2, color='cornflowerblue',label='1 StDev')\n",
    "plt.fill_between(x3, s3, color='tab:blue')\n",
    "plt.plot(xw, sw, 'g-')\n",
    "plt.fill_between(xw, sw, alpha=0.2, color='tab:green', label='w/o Antithetic')\n",
    "plt.plot([C0,C0],[0, max(s2)*1.1], 'k',\n",
    "        label='Theoretical Value')\n",
    "plt.plot([C0w,C0w],[0, max(s2)*1.1], color='tab:green',\n",
    "        label='Value w/o Antithetic')\n",
    "plt.plot([market_value,market_value],[0, max(s2)*1.1], 'r',\n",
    "        label='Market Value')\n",
    "plt.ylabel(\"Probability\")\n",
    "plt.xlabel(\"Option Price\")\n",
    "plt.legend()\n",
    "plt.show()"
   ]
  },
  {
   "attachments": {},
   "cell_type": "markdown",
   "metadata": {},
   "source": [
    "**Advantages of Antithetic Variance Reduction**\n",
    "\n",
    "- When utilizing pairs of $(ϵ_i, -ϵ_i)$ in the simulation, we can achieve a more accurate estimate using $M$ pairs of $(C_{T,i}, C¯_{T,i})$ compared to the use of $2M$ individual instances of $C_{T,i}$. This not only improves accuracy but also reduces computational costs, as generating the pair $(C_{T,i}, C¯_{T,i})$ is computationally more efficient than generating two separate instances of $C_{T,i}$.\n",
    "\n",
    "- Additionally, this method guarantees that the mean of the normally distributed samples $\\epsilon$ is precisely zero. This feature enhances the quality and reliability of the simulation results, making it a highly effective approach for variance reduction in Monte Carlo simulations.\n"
   ]
  },
  {
   "cell_type": "code",
   "execution_count": null,
   "metadata": {},
   "outputs": [],
   "source": []
  }
 ],
 "metadata": {
  "kernelspec": {
   "display_name": "Python 3",
   "language": "python",
   "name": "python3"
  },
  "language_info": {
   "codemirror_mode": {
    "name": "ipython",
    "version": 3
   },
   "file_extension": ".py",
   "mimetype": "text/x-python",
   "name": "python",
   "nbconvert_exporter": "python",
   "pygments_lexer": "ipython3",
   "version": "3.11.1"
  },
  "orig_nbformat": 4,
  "vscode": {
   "interpreter": {
    "hash": "ead1b95f633dc9c51826328e1846203f51a198c6fb5f2884a80417ba131d4e82"
   }
  }
 },
 "nbformat": 4,
 "nbformat_minor": 2
}
