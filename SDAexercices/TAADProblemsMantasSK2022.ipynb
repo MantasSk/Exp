{
  "cells": [
    {
      "cell_type": "markdown",
      "metadata": {
        "id": "_T3jdch4qAZY"
      },
      "source": [
        "# STATISTICAL DATA ANALYSIS - PROBLEM SHEET 1\n",
        "Mantas Skarzinskas 2022"
      ]
    },
    {
      "cell_type": "markdown",
      "metadata": {
        "id": "pW71ZZB3pibr"
      },
      "source": [
        "# 1. Using the Kolmogorov axioms, demonstrate that <br/> <br/> $$P \\left( A \\cup B \\right)= P(A) + P (B) - P(A \\cap B)$$\n",
        "<br/>\n",
        "\n",
        "## Solution:\n",
        " There is $A \\cup (B \\cap A^s) = (A \\cup B) \\cap (A \\cup A^s) = A \\cup B$, which is to say that $A \\cup B$,can be expressed as the union of two disjoint sets. Therefore, according to axiom 3, there is  \n",
        "<br/>$$P(A \\cup B) = P (A) + P(B \\cap A^s).$$\n",
        "<br/> But $B = B \\cap (A \\cup A^s) = (B \\cap A) \\cup (B \\cap A^s)$ is also the union of two disjoint sets, so there is also\n",
        "<br/>\n",
        "<br/>\n",
        "$$ P (B) = P(B \\cap A) + P(B \\cap A^s) ⟹ P(B \\cap A^s) = P(B) - P(B \\cap A).$$\n",
        "<br/> Substituting the latter expression into the one above gives\n",
        "<br/>\n",
        "<br/>\n",
        "$$P \\left( A \\cup B \\right)= P(A) + P (B) - P(A \\cap B)$$"
      ]
    },
    {
      "cell_type": "markdown",
      "metadata": {
        "id": "24jOCGG77PL5"
      },
      "source": [
        "# 2. Show, from the appropriate definition, that the standard deviation of a uniform distribution of widht $\\omega$ is $\\frac{ω}{\\sqrt12}$\n",
        "\n",
        "## Solution:\n",
        "A continuous uniform distribution takes values in a range $[a, b]$ which is our distribution width $ω = b - a$. The probability density function of a continuous uniform distribution is defined as $$f(x) = \\frac{1}{b-a}$$ if $$a \\leq x \\leq b$$ otherwise $$f(x) =0$$\n",
        "\n",
        "The variance of a continuous uniform distribution is $$Var(X) = \\frac{(b-a)^2}{12}$$ and the standard deviation is $$σ = \\sqrt{\\frac{(b-a)^2}{12}} = \\frac{b-a}{\\sqrt12} = \\frac{\\omega}{\\sqrt12}$$\n",
        "\n"
      ]
    },
    {
      "attachments": {},
      "cell_type": "markdown",
      "metadata": {
        "id": "s7NM6c1YD7di"
      },
      "source": [
        "# 3. A Poisson distribution has a mean of 3.7. Calculate ‘by hand’ the probability that it will give two events or less.\n",
        "\n",
        "## Solution:\n",
        "\n",
        "Poisson distribution is $f(k,\\lambda)=P(X=k)=\\frac{e^{- λ} \\lambda^k}{k!}$\n",
        "<br/>\n",
        "<br/> $$P(X \\leq 2)= P(0)+P(1)+P(2)=$$\n",
        "<br/> $$\\frac{e^{- 3.7} 3.7^0}{0!}+\\frac{e^{-3.7} 3.7^1}{1!}+\\frac{e^{- 3.7} 3.7^2}{2!} = 0.285433 $$\n"
      ]
    },
    {
      "attachments": {},
      "cell_type": "markdown",
      "metadata": {
        "id": "VhemlJ6UTpUi"
      },
      "source": [
        "# 4. Consider the joint probability density for two continuous variables x and y given by:\n",
        "<br/>\n",
        "\n",
        "\\begin{equation}\n",
        "f(x,y) = \\left\\{\n",
        "    \\begin{array}{ll}\n",
        "        x+y & \\text{if } 0 \\leq x \\leq 1 \\text{ and } 0 \\leq y \\leq 1 \\\\\n",
        "        0 & \\text{otherwise}\n",
        "    \\end{array}\n",
        "\\right.\n",
        "\\end{equation}\n",
        "\n",
        "\n",
        "### a) Find the marginal pdfs $f_x(x)$ and $f_y(y)$ and indicate what they look like with a simple sketch. Are $x$ and $y$ independent? Explain.\n",
        "### b) Find the conditional probabilities $f (x|y)$ and $f (y|x)$. State how these two densities are related by Bayes theorem, and demonstrate that the relation holds using the conditional pdfs you have found together with the marginal pdfs from (a).\n",
        "\n",
        "\n",
        "\n",
        "\n",
        "# Solution:\n",
        "#### a) MARGINAL PDFS:\n",
        "$$f_X(x) = \\int _ {-\\infty}^{\\infty} f_{XY}(x, y)dy, \\text{ for all } x,$$\n",
        "$$f_Y(y) = \\int _ {-\\infty}^{\\infty} f_{XY}(x, y)dx, \\text{ for all } y.$$\n",
        "\n",
        "$$f_X(x) = \\int _ {0}^{1} x+y \\ dy = x + \\frac{1}{2}$$\n",
        "$$f_Y(y) = \\int _ {0}^{1} x+y \\ dx = y + \\frac{1}{2}$$\n",
        "\n",
        "X and Y are independent if and only:\n",
        "$f (x, y) = f_X (x)_Y (y)$ for all pairs $(x,y)$ so in this case X and Y are NOT independent because it does not satify required relation\n",
        "\n",
        "#### b) CONDITIONAL PROBABILITIES:\n",
        " $$f_{Y|X}(x,y) =  \\frac{f_{X,Y}(x,y)}{f_X(x)}$$\n",
        " $$f_{X|Y}(x,y) =  \\frac{f_{X,Y}(x,y)}{f_Y(y)}$$\n",
        "\n",
        " $$f_{Y|X}(x = 0,y) =  \\frac{f_{X,Y}(0,y)}{f_X(0)} = 2y$$\n",
        " $$f_{X|Y}(x,y=0) =  2x$$\n",
        "\n",
        "\n",
        " These 2 densities are related by simple Bayes theorem for conditional probabilities: $P(A | B)=\\frac{P(A∩B)}{P(B)}$ <br/>\n",
        "Don't know  how to demonstrate that relation holds up using conditional and marginal pdfs\n",
        "\n"
      ]
    },
    {
      "cell_type": "markdown",
      "metadata": {
        "id": "kstQDMGWhEzi"
      },
      "source": []
    },
    {
      "cell_type": "markdown",
      "metadata": {
        "id": "GkOez-5kD8Au"
      },
      "source": [
        "# 5. Generate a sample of pseudo-random events uniformly distributed between 0 and 1 using the multiplicative linear congruential algorithm. Where each value $n_{i+1}$ of the sequence is given by $n_{i+1} = (a × n_i ) \\text{ mod } m$. Try a few values for the seed $n_0$ the multiplier $a$ and the modulo $m$.\n",
        "\n",
        "\n",
        "## a) Choose a set of parameters $n_0, a \\text{ and } m$. What is the period of repetition?\n",
        "## b) Calculate the expectation value and variance of the sample. Does this agree with what you expected?\n",
        "## c) Given a small set of the random number sequence, what is the correlation coefficient between even and odd-numbered numbers in the sequence? What do you conclude on the randomness of the sample?"
      ]
    },
    {
      "cell_type": "code",
      "execution_count": null,
      "metadata": {
        "colab": {
          "base_uri": "https://localhost:8080/",
          "height": 372
        },
        "id": "Bccqi5LUhjgy",
        "outputId": "9f144411-e20b-4b4d-a514-2fa878c52153"
      },
      "outputs": [
        {
          "name": "stdout",
          "output_type": "stream",
          "text": [
            "1 0.5 0.25 0.625 0.5625 0.40625 0.015625 0.0390625 0.09765625 0.244140625 0.6103515625 0.52587890625 0.314697265625 0.7867431640625 0.96685791015625 0.417144775390625 0.0428619384765625 0.10715484619140625 0.2678871154785156 0.6697177886962891 0.6742944717407227 0.6857361793518066 0.7143404483795166 0.7858511209487915 0.9646278023719788 0.4115695059299469 0.02892376482486725 0.07230941206216812 0.1807735301554203 0.45193382538855076 0.1298345634713769 0.32458640867844224 0.8114660216961056 0.028665054240264 0.07166263560066 0.17915658900165 0.447891472504125 0.11972868126031244 0.2993217031507811 0.7483042578769528 0.8707606446923819 0.17690161173095476 0.4422540293273869 0.10563507331846722 0.26408768329616805 0.6602192082404201 0.6505480206010503 0.6263700515026258 0.5659251287565645 0.41481282189141133 0.03703205472852833 0.09258013682132082 0.23145034205330206 0.5786258551332552 0.4465646378331378 0.11641159458284456 0.2910289864571114 0.7275724661427785 0.8189311653569462 0.04732791339236542 0.11831978348091354 0.29579945870228386 0.7394986467557096 0.8487466168892741 0.12186654222318527 0.3046663555579632 0.7616658888949079 0.9041647222372697 0.26041180559317434 0.6510295139829358 0.6275737849573395 0.5689344623933488 0.42233615598337204 0.0558403899584301 0.13960097489607526 0.34900243724018815 0.8725060931004703 0.1812652327511759 0.45316308187793974 0.13290770469484947 0.3322692617371237 0.8306731543428092 0.07668288585702321 0.19170721464255802 0.47926803660639505 0.19817009151598763 0.4954252287899691 0.23856307197492277 0.5964076799373069 0.49101919984326736 0.2275479996081684 0.568869999020421 0.4221749975510525 0.055437493877631194 0.13859373469407799 0.34648433673519496 0.8662108418379875 0.16552710459496867 0.41381776148742166 0.03454440371855405 "
          ]
        },
        {
          "data": {
            "text/plain": [
              "(array([17., 15., 12.,  6., 15.,  7., 10.,  7.,  7.,  4.]),\n",
              " array([0.015625 , 0.1140625, 0.2125   , 0.3109375, 0.409375 , 0.5078125,\n",
              "        0.60625  , 0.7046875, 0.803125 , 0.9015625, 1.       ]),\n",
              " <a list of 10 Patch objects>)"
            ]
          },
          "execution_count": 13,
          "metadata": {},
          "output_type": "execute_result"
        },
        {
          "data": {
            "image/png": "[encoded data removed]",
            "text/plain": [
              "<Figure size 432x288 with 1 Axes>"
            ]
          },
          "metadata": {
            "needs_background": "light"
          },
          "output_type": "display_data"
        }
      ],
      "source": [
        "def multiplicativeCongruentialMethod(Xo, m, a,\n",
        "                                     randomNums,\n",
        "                                     noOfRandomNums):\n",
        "    # Initialize the seed state\n",
        "    randomNums[0] = Xo\n",
        "    # Traverse to generate required\n",
        "    # numbers of random numbers\n",
        "    for i in range(1, noOfRandomNums):\n",
        "        # Follow the linear congruential method\n",
        "        randomNums[i] = (randomNums[i - 1] * a) % m\n",
        "\n",
        "if __name__ == '__main__':\n",
        "\n",
        "    # Seed value\n",
        "    Xo = 1\n",
        "    # Modulus parameter\n",
        "    m = 1\n",
        "    # Multiplier term\n",
        "    a = 2.5\n",
        "    # Number of Random numbers\n",
        "    # to be generated\n",
        "    noOfRandomNums = 100\n",
        "    # To store random numbers\n",
        "    randomNums = [0] * (noOfRandomNums)\n",
        "    # Function Call\n",
        "    multiplicativeCongruentialMethod(Xo, m, a,\n",
        "                                     randomNums,\n",
        "                                     noOfRandomNums)\n",
        "    # Print the generated random numbers\n",
        "    for i in randomNums:\n",
        "        print(i, end = \" \")\n",
        "\n",
        "import matplotlib.pyplot as plt\n",
        "import numpy as np\n",
        "random01 = np.array(randomNums)\n",
        "plt.hist(random01)"
      ]
    },
    {
      "cell_type": "markdown",
      "metadata": {
        "id": "nzA9HTl_7qyi"
      },
      "source": [
        "# 8. If some object $X$ exists, it may be found with equal probability in one of $N$ locations. Show, using Bayes’ theorem, that if P is your prior belief in the existence of $X$, then after a location is unsuccessfully investigated your belief changes to $P' = \\frac{(N − 1 )}{(N - P)}P  $. If $N = 10$ and there are nine unsuccessful searches, calculate the final posteriors for a prior equal to 0.9 and equal to 0.99.\n",
        "\n",
        "#### SOLUTION\n",
        "\n"
      ]
    },
    {
      "cell_type": "code",
      "execution_count": null,
      "metadata": {
        "colab": {
          "base_uri": "https://localhost:8080/",
          "height": 662
        },
        "id": "D5wO_8fuk4CI",
        "outputId": "1b04ef43-edc1-4bd2-e5bc-0ba42618a816"
      },
      "outputs": [
        {
          "name": "stdout",
          "output_type": "stream",
          "text": [
            "Changed belief starting with prior 0.90 [0.8901098901098902, 0.879372738238842, 0.8677423621214126, 0.8551753102868977, 0.841632076472703, 0.8270784436160734, 0.8114869343196539, 0.7948383331091361, 0.7771232333389758]\n",
            "Changed belief starting with prior 0.99 [0.9889012208657048, 0.9876832122182535, 0.9863333834442608, 0.9848378943474155, 0.9831815496217449, 0.9813476887986476, 0.9793180726368775, 0.9770727673033383, 0.9745900281523057]\n"
          ]
        },
        {
          "data": {
            "image/png": "[encoded data removed]",
            "text/plain": [
              "<Figure size 432x288 with 1 Axes>"
            ]
          },
          "metadata": {
            "needs_background": "light"
          },
          "output_type": "display_data"
        },
        {
          "data": {
            "image/png": "[encoded data removed]",
            "text/plain": [
              "<Figure size 432x288 with 1 Axes>"
            ]
          },
          "metadata": {
            "needs_background": "light"
          },
          "output_type": "display_data"
        },
        {
          "name": "stdout",
          "output_type": "stream",
          "text": [
            "final posterior with prior equal to 0.9 =  0.11581174791713199\n",
            "final posterior with prior equal to 0.99 =  0.10158117479171315\n"
          ]
        }
      ],
      "source": [
        "import matplotlib.pyplot as plt\n",
        "import numpy as np\n",
        "\n",
        "N=10 # number of locations\n",
        "NFail = 9 #unsuccessful search\n",
        "PX = 1/N # equal prob that it will by found in location N\n",
        "\n",
        "\n",
        "p_prior = 0.9\n",
        "p_prior2= 0.99\n",
        "\n",
        "def belief (N, P):\n",
        "  P2 = ((N - 1) / (N - P ))*P\n",
        "  return P2\n",
        "\n",
        "def change (beliefafterfail, failtimes, prior):\n",
        "  currentP = [prior]\n",
        "  for fail in range(failtimes):\n",
        "    currentP.append(belief(N, currentP[-1]))\n",
        "  return currentP\n",
        "## Current beliefs\n",
        "current = change(belief, NFail, p_prior)\n",
        "current.pop(0)\n",
        "print('Changed belief starting with prior 0.90', current)\n",
        "\n",
        "current2 = change(belief, NFail, p_prior2)\n",
        "current2.pop(0)\n",
        "print('Changed belief starting with prior 0.99',current2)\n",
        "\n",
        "\n",
        "\n",
        "##Test Plots\n",
        "plt.plot(range(1, 1+len(current)), current)\n",
        "plt.title('Belief Change after failed attempts (test with prior 0.9)')\n",
        "plt.xlabel(\"Failed attempts\")\n",
        "plt.ylabel(\"Prior belief %\")\n",
        "plt.grid()\n",
        "plt.show()\n",
        "\n",
        "plt.plot(range(1, 1+len(current2)), current2)\n",
        "plt.title('Belief Change after failed attempts (test with prior 0.99)')\n",
        "plt.xlabel(\"Failed attempts\")\n",
        "plt.ylabel(\"Prior belief %\")\n",
        "plt.grid()\n",
        "plt.show()\n",
        "\n",
        "def bayesposterior(likelihood, prior, normalization): ##likelihood - P (A), Prior P(B|A), normalization P(B)\n",
        "  posterior = (likelihood * prior) / normalization\n",
        "  return posterior\n",
        "\n",
        "post = bayesposterior(PX, p_prior, current[-1])\n",
        "print(\"final posterior with prior equal to 0.9 = \", post)\n",
        "\n",
        "post2 = bayesposterior(PX, p_prior2, current2[-1])\n",
        "print(\"final posterior with prior equal to 0.99 = \", post2)\n",
        "\n",
        "\n",
        "\n",
        "\n",
        "\n",
        "\n"
      ]
    },
    {
      "cell_type": "code",
      "execution_count": null,
      "metadata": {
        "id": "XEQJg51AJXFh"
      },
      "outputs": [],
      "source": []
    }
  ],
  "metadata": {
    "colab": {
      "provenance": []
    },
    "kernelspec": {
      "display_name": "Python 3",
      "name": "python3"
    },
    "language_info": {
      "name": "python"
    }
  },
  "nbformat": 4,
  "nbformat_minor": 0
}
